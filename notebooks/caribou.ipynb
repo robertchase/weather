{
 "cells": [
  {
   "cell_type": "code",
   "execution_count": 1,
   "id": "8b38b28b-3dee-4f75-ac59-02b8386ed140",
   "metadata": {},
   "outputs": [],
   "source": [
    "import pandas as pd\n",
    "import seaborn as sns"
   ]
  },
  {
   "cell_type": "code",
   "execution_count": 30,
   "id": "3061bad8-6537-4928-9d1d-a5a7e1439504",
   "metadata": {},
   "outputs": [],
   "source": [
    "df = pd.read_excel('../data/caribou_climate.xlsx')"
   ]
  },
  {
   "cell_type": "code",
   "execution_count": 31,
   "id": "701e6585-81cf-415f-b124-7fdf4b71831d",
   "metadata": {},
   "outputs": [
    {
     "data": {
      "text/html": [
       "<div>\n",
       "<style scoped>\n",
       "    .dataframe tbody tr th:only-of-type {\n",
       "        vertical-align: middle;\n",
       "    }\n",
       "\n",
       "    .dataframe tbody tr th {\n",
       "        vertical-align: top;\n",
       "    }\n",
       "\n",
       "    .dataframe thead th {\n",
       "        text-align: right;\n",
       "    }\n",
       "</style>\n",
       "<table border=\"1\" class=\"dataframe\">\n",
       "  <thead>\n",
       "    <tr style=\"text-align: right;\">\n",
       "      <th></th>\n",
       "      <th>Date</th>\n",
       "      <th>MaxTemperature</th>\n",
       "      <th>MinTemperature</th>\n",
       "      <th>Precipitation</th>\n",
       "      <th>Snowfall</th>\n",
       "      <th>SnowDepth</th>\n",
       "    </tr>\n",
       "  </thead>\n",
       "  <tbody>\n",
       "    <tr>\n",
       "      <th>0</th>\n",
       "      <td>1939-01-01</td>\n",
       "      <td>M</td>\n",
       "      <td>M</td>\n",
       "      <td>M</td>\n",
       "      <td>M</td>\n",
       "      <td>M</td>\n",
       "    </tr>\n",
       "    <tr>\n",
       "      <th>1</th>\n",
       "      <td>1939-01-02</td>\n",
       "      <td>M</td>\n",
       "      <td>M</td>\n",
       "      <td>M</td>\n",
       "      <td>M</td>\n",
       "      <td>M</td>\n",
       "    </tr>\n",
       "    <tr>\n",
       "      <th>2</th>\n",
       "      <td>1939-01-03</td>\n",
       "      <td>M</td>\n",
       "      <td>M</td>\n",
       "      <td>M</td>\n",
       "      <td>M</td>\n",
       "      <td>M</td>\n",
       "    </tr>\n",
       "    <tr>\n",
       "      <th>3</th>\n",
       "      <td>1939-01-04</td>\n",
       "      <td>M</td>\n",
       "      <td>M</td>\n",
       "      <td>M</td>\n",
       "      <td>M</td>\n",
       "      <td>M</td>\n",
       "    </tr>\n",
       "    <tr>\n",
       "      <th>4</th>\n",
       "      <td>1939-01-05</td>\n",
       "      <td>M</td>\n",
       "      <td>M</td>\n",
       "      <td>M</td>\n",
       "      <td>M</td>\n",
       "      <td>M</td>\n",
       "    </tr>\n",
       "  </tbody>\n",
       "</table>\n",
       "</div>"
      ],
      "text/plain": [
       "        Date  MaxTemperature  MinTemperature  Precipitation  Snowfall  \\\n",
       "0 1939-01-01               M               M              M         M   \n",
       "1 1939-01-02               M               M              M         M   \n",
       "2 1939-01-03               M               M              M         M   \n",
       "3 1939-01-04               M               M              M         M   \n",
       "4 1939-01-05               M               M              M         M   \n",
       "\n",
       "   SnowDepth  \n",
       "0          M  \n",
       "1          M  \n",
       "2          M  \n",
       "3          M  \n",
       "4          M  "
      ]
     },
     "execution_count": 31,
     "metadata": {},
     "output_type": "execute_result"
    }
   ],
   "source": [
    "df.head()"
   ]
  },
  {
   "cell_type": "code",
   "execution_count": 32,
   "id": "c0ee31e9-b4b2-4825-b4cb-09ee72f00b37",
   "metadata": {},
   "outputs": [
    {
     "data": {
      "text/plain": [
       "Index(['Date', ' MaxTemperature', ' MinTemperature', ' Precipitation',\n",
       "       ' Snowfall', ' SnowDepth'],\n",
       "      dtype='object')"
      ]
     },
     "execution_count": 32,
     "metadata": {},
     "output_type": "execute_result"
    }
   ],
   "source": [
    "df.columns"
   ]
  },
  {
   "cell_type": "code",
   "execution_count": 33,
   "id": "8111f21f-3a70-40c4-8327-dc1f02573906",
   "metadata": {},
   "outputs": [],
   "source": [
    "df = df[[\"Date\", \" MinTemperature\", \" MaxTemperature\"]]\n",
    "df.columns = [\"date\", \"min\", \"max\"]"
   ]
  },
  {
   "cell_type": "code",
   "execution_count": 34,
   "id": "419b8eaf-3ebf-4b01-b20b-780cadeba24f",
   "metadata": {},
   "outputs": [
    {
     "data": {
      "text/html": [
       "<div>\n",
       "<style scoped>\n",
       "    .dataframe tbody tr th:only-of-type {\n",
       "        vertical-align: middle;\n",
       "    }\n",
       "\n",
       "    .dataframe tbody tr th {\n",
       "        vertical-align: top;\n",
       "    }\n",
       "\n",
       "    .dataframe thead th {\n",
       "        text-align: right;\n",
       "    }\n",
       "</style>\n",
       "<table border=\"1\" class=\"dataframe\">\n",
       "  <thead>\n",
       "    <tr style=\"text-align: right;\">\n",
       "      <th></th>\n",
       "      <th>date</th>\n",
       "      <th>min</th>\n",
       "      <th>max</th>\n",
       "    </tr>\n",
       "  </thead>\n",
       "  <tbody>\n",
       "    <tr>\n",
       "      <th>0</th>\n",
       "      <td>1939-01-01</td>\n",
       "      <td>M</td>\n",
       "      <td>M</td>\n",
       "    </tr>\n",
       "    <tr>\n",
       "      <th>1</th>\n",
       "      <td>1939-01-02</td>\n",
       "      <td>M</td>\n",
       "      <td>M</td>\n",
       "    </tr>\n",
       "    <tr>\n",
       "      <th>2</th>\n",
       "      <td>1939-01-03</td>\n",
       "      <td>M</td>\n",
       "      <td>M</td>\n",
       "    </tr>\n",
       "    <tr>\n",
       "      <th>3</th>\n",
       "      <td>1939-01-04</td>\n",
       "      <td>M</td>\n",
       "      <td>M</td>\n",
       "    </tr>\n",
       "    <tr>\n",
       "      <th>4</th>\n",
       "      <td>1939-01-05</td>\n",
       "      <td>M</td>\n",
       "      <td>M</td>\n",
       "    </tr>\n",
       "  </tbody>\n",
       "</table>\n",
       "</div>"
      ],
      "text/plain": [
       "        date min max\n",
       "0 1939-01-01   M   M\n",
       "1 1939-01-02   M   M\n",
       "2 1939-01-03   M   M\n",
       "3 1939-01-04   M   M\n",
       "4 1939-01-05   M   M"
      ]
     },
     "execution_count": 34,
     "metadata": {},
     "output_type": "execute_result"
    }
   ],
   "source": [
    "df.head()"
   ]
  },
  {
   "cell_type": "code",
   "execution_count": 35,
   "id": "137cdf1a-ac8c-4c49-babb-e54fac359077",
   "metadata": {},
   "outputs": [
    {
     "data": {
      "text/html": [
       "<div>\n",
       "<style scoped>\n",
       "    .dataframe tbody tr th:only-of-type {\n",
       "        vertical-align: middle;\n",
       "    }\n",
       "\n",
       "    .dataframe tbody tr th {\n",
       "        vertical-align: top;\n",
       "    }\n",
       "\n",
       "    .dataframe thead th {\n",
       "        text-align: right;\n",
       "    }\n",
       "</style>\n",
       "<table border=\"1\" class=\"dataframe\">\n",
       "  <thead>\n",
       "    <tr style=\"text-align: right;\">\n",
       "      <th></th>\n",
       "      <th>date</th>\n",
       "      <th>min</th>\n",
       "      <th>max</th>\n",
       "      <th>ordinal</th>\n",
       "    </tr>\n",
       "  </thead>\n",
       "  <tbody>\n",
       "    <tr>\n",
       "      <th>count</th>\n",
       "      <td>30995</td>\n",
       "      <td>30995.000000</td>\n",
       "      <td>30995.000000</td>\n",
       "      <td>30995.000000</td>\n",
       "    </tr>\n",
       "    <tr>\n",
       "      <th>mean</th>\n",
       "      <td>1981-08-21 23:56:16.996289728</td>\n",
       "      <td>30.098306</td>\n",
       "      <td>49.233005</td>\n",
       "      <td>723413.997419</td>\n",
       "    </tr>\n",
       "    <tr>\n",
       "      <th>min</th>\n",
       "      <td>1939-01-16 00:00:00</td>\n",
       "      <td>-41.000000</td>\n",
       "      <td>-16.000000</td>\n",
       "      <td>707855.000000</td>\n",
       "    </tr>\n",
       "    <tr>\n",
       "      <th>25%</th>\n",
       "      <td>1960-06-06 12:00:00</td>\n",
       "      <td>16.000000</td>\n",
       "      <td>32.000000</td>\n",
       "      <td>715667.500000</td>\n",
       "    </tr>\n",
       "    <tr>\n",
       "      <th>50%</th>\n",
       "      <td>1981-08-25 00:00:00</td>\n",
       "      <td>32.000000</td>\n",
       "      <td>50.000000</td>\n",
       "      <td>723417.000000</td>\n",
       "    </tr>\n",
       "    <tr>\n",
       "      <th>75%</th>\n",
       "      <td>2002-11-11 12:00:00</td>\n",
       "      <td>47.000000</td>\n",
       "      <td>68.000000</td>\n",
       "      <td>731165.500000</td>\n",
       "    </tr>\n",
       "    <tr>\n",
       "      <th>max</th>\n",
       "      <td>2024-01-29 00:00:00</td>\n",
       "      <td>71.000000</td>\n",
       "      <td>96.000000</td>\n",
       "      <td>738914.000000</td>\n",
       "    </tr>\n",
       "    <tr>\n",
       "      <th>std</th>\n",
       "      <td>NaN</td>\n",
       "      <td>20.864679</td>\n",
       "      <td>22.083621</td>\n",
       "      <td>8952.242397</td>\n",
       "    </tr>\n",
       "  </tbody>\n",
       "</table>\n",
       "</div>"
      ],
      "text/plain": [
       "                                date           min           max  \\\n",
       "count                          30995  30995.000000  30995.000000   \n",
       "mean   1981-08-21 23:56:16.996289728     30.098306     49.233005   \n",
       "min              1939-01-16 00:00:00    -41.000000    -16.000000   \n",
       "25%              1960-06-06 12:00:00     16.000000     32.000000   \n",
       "50%              1981-08-25 00:00:00     32.000000     50.000000   \n",
       "75%              2002-11-11 12:00:00     47.000000     68.000000   \n",
       "max              2024-01-29 00:00:00     71.000000     96.000000   \n",
       "std                              NaN     20.864679     22.083621   \n",
       "\n",
       "             ordinal  \n",
       "count   30995.000000  \n",
       "mean   723413.997419  \n",
       "min    707855.000000  \n",
       "25%    715667.500000  \n",
       "50%    723417.000000  \n",
       "75%    731165.500000  \n",
       "max    738914.000000  \n",
       "std      8952.242397  "
      ]
     },
     "execution_count": 35,
     "metadata": {},
     "output_type": "execute_result"
    }
   ],
   "source": [
    "df = df[pd.to_numeric(df['min'], errors='coerce').notnull()]\n",
    "df = df[pd.to_numeric(df['max'], errors='coerce').notnull()]\n",
    "\n",
    "df = (df\n",
    "    .assign(\n",
    "        ordinal=df[\"date\"].apply(lambda date: date.toordinal()),\n",
    "        min=df[\"min\"].astype(\"int8\"),\n",
    "        max=df[\"max\"].astype(\"int8\"),\n",
    "    )\n",
    ")\n",
    "\n",
    "df.describe()"
   ]
  },
  {
   "cell_type": "code",
   "execution_count": 36,
   "id": "d14f87ac-601d-4e3a-8be6-caab09bba88b",
   "metadata": {},
   "outputs": [
    {
     "data": {
      "text/plain": [
       "<seaborn.axisgrid.FacetGrid at 0x15840b690>"
      ]
     },
     "execution_count": 36,
     "metadata": {},
     "output_type": "execute_result"
    },
    {
     "data": {
      "image/png": "[encoded data removed]",
      "text/plain": [
       "<Figure size 500x500 with 1 Axes>"
      ]
     },
     "metadata": {},
     "output_type": "display_data"
    }
   ],
   "source": [
    "sns.lmplot(x=\"ordinal\", y=\"max\", data=df, line_kws={\"color\": \"C1\"})"
   ]
  },
  {
   "cell_type": "code",
   "execution_count": null,
   "id": "199a69f7-e948-4fe8-b12e-fe3e796ed03d",
   "metadata": {},
   "outputs": [],
   "source": []
  }
 ],
 "metadata": {
  "kernelspec": {
   "display_name": "Python 3 (ipykernel)",
   "language": "python",
   "name": "python3"
  },
  "language_info": {
   "codemirror_mode": {
    "name": "ipython",
    "version": 3
   },
   "file_extension": ".py",
   "mimetype": "text/x-python",
   "name": "python",
   "nbconvert_exporter": "python",
   "pygments_lexer": "ipython3",
   "version": "3.11.2"
  }
 },
 "nbformat": 4,
 "nbformat_minor": 5
}
